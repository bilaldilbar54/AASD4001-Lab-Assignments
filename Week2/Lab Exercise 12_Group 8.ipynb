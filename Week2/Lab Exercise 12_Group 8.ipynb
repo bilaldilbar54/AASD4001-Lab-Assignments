{
 "cells": [
  {
   "cell_type": "markdown",
   "metadata": {},
   "source": [
    "<p style=\"font-family: Arial; font-size:3em;color:black;\"> Session 6 - Matrix Factorization</p>"
   ]
  },
  {
   "cell_type": "code",
   "execution_count": 1,
   "metadata": {},
   "outputs": [],
   "source": [
    "import pandas as pd\n",
    "import numpy as np\n",
    "import matplotlib.pyplot as plt\n",
    "from numpy.linalg import svd"
   ]
  },
  {
   "cell_type": "code",
   "execution_count": 2,
   "metadata": {},
   "outputs": [
    {
     "name": "stdout",
     "output_type": "stream",
     "text": [
      "[[1 0 0 0 2]\n",
      " [0 0 3 0 0]\n",
      " [0 0 0 0 0]\n",
      " [0 2 0 0 0]] \n",
      "\n",
      "(4, 4) (4,) (5, 5) \n",
      "\n",
      "[[ 0.  1.  0.  0.]\n",
      " [ 1.  0.  0.  0.]\n",
      " [ 0.  0.  0. -1.]\n",
      " [ 0.  0.  1.  0.]] \n",
      "\n",
      "[3.         2.23606798 2.         0.        ] \n",
      "\n",
      "[[-0.          0.          1.          0.          0.        ]\n",
      " [ 0.4472136   0.          0.          0.          0.89442719]\n",
      " [-0.          1.          0.          0.          0.        ]\n",
      " [ 0.          0.          0.          1.          0.        ]\n",
      " [-0.89442719  0.          0.          0.          0.4472136 ]] \n",
      "\n"
     ]
    }
   ],
   "source": [
    "# Singular Value Decompostion Ex. 1\n",
    "a = np.array([[1, 0, 0, 0, 2], [0, 0, 3, 0, 0], [0, 0, 0, 0, 0], [0, 2, 0, 0, 0]])\n",
    "u, s, vh = np.linalg.svd(a)\n",
    "\n",
    "print(a,'\\n')\n",
    "print(u.shape,  s.shape, vh.shape,'\\n') # s is a 1D array of a’s singular values\n",
    "print(u,'\\n')\n",
    "print(s,'\\n')\n",
    "print(vh,'\\n')"
   ]
  },
  {
   "cell_type": "code",
   "execution_count": 3,
   "metadata": {},
   "outputs": [
    {
     "name": "stdout",
     "output_type": "stream",
     "text": [
      "[[3.         0.         0.         0.         0.        ]\n",
      " [0.         2.23606798 0.         0.         0.        ]\n",
      " [0.         0.         2.         0.         0.        ]\n",
      " [0.         0.         0.         0.         0.        ]] \n",
      "\n",
      "[[1. 0. 0. 0. 2.]\n",
      " [0. 0. 3. 0. 0.]\n",
      " [0. 0. 0. 0. 0.]\n",
      " [0. 2. 0. 0. 0.]]\n"
     ]
    }
   ],
   "source": [
    "m, n = 4, 5\n",
    "sigma = np.zeros((m, n)) # a m-by-n matrix of zero values\n",
    "for i in range(min(m, n)):\n",
    "    sigma[i, i] = s[i]   # transforming s into the diagonal matrix sigma \n",
    "\n",
    "print(sigma,'\\n')\n",
    "print(np.matmul(u, np.matmul(sigma, vh)))"
   ]
  },
  {
   "cell_type": "code",
   "execution_count": 4,
   "metadata": {},
   "outputs": [
    {
     "name": "stdout",
     "output_type": "stream",
     "text": [
      "[[1 0 0 2]\n",
      " [0 3 2 0]\n",
      " [1 4 3 0]] \n",
      "\n",
      "(3, 3) (3,) (4, 4) \n",
      "\n",
      "[[-0.02431531  0.99228208  0.12159371]\n",
      " [-0.57414244 -0.11343137  0.8108599 ]\n",
      " [-0.81839429  0.0500958  -0.57246938]] \n",
      "\n",
      "[6.21752084 2.24732851 0.5403232 ] \n",
      "\n",
      "[[-0.13553788 -0.80353643 -0.57956666 -0.00782155]\n",
      " [ 0.46382978 -0.06225655 -0.03407395  0.88307702]\n",
      " [-0.8344555   0.26410523 -0.17709463  0.4500777 ]\n",
      " [-0.26490647 -0.52981294  0.79471941  0.13245324]] \n",
      "\n",
      "[[6.21752084 0.         0.         0.        ]\n",
      " [0.         2.24732851 0.         0.        ]\n",
      " [0.         0.         0.5403232  0.        ]] \n",
      "\n",
      "[[ 1.00000000e+00  3.77658883e-16  3.03551481e-16  2.00000000e+00]\n",
      " [-1.20734153e-16  3.00000000e+00  2.00000000e+00 -8.05181830e-18]\n",
      " [ 1.00000000e+00  4.00000000e+00  3.00000000e+00 -1.43724366e-16]]\n"
     ]
    }
   ],
   "source": [
    "# Singular Value Decompostion Ex. 2\n",
    "a = np.array([[1, 0, 0, 2], [0, 3, 2, 0], [1, 4, 3, 0]])\n",
    "u, s, vh = np.linalg.svd(a)\n",
    "\n",
    "m, n = 3, 4\n",
    "sigma = np.zeros((m, n))\n",
    "for i in range(min(m, n)):\n",
    "    sigma[i, i] = s[i]\n",
    "\n",
    "\n",
    "print(a,'\\n')\n",
    "print(u.shape,  s.shape, vh.shape,'\\n')\n",
    "print(u,'\\n')\n",
    "print(s,'\\n')\n",
    "print(vh,'\\n')\n",
    "print(sigma,'\\n')\n",
    "print(np.matmul(u, np.matmul(sigma, vh)))"
   ]
  },
  {
   "cell_type": "code",
   "execution_count": 5,
   "metadata": {},
   "outputs": [
    {
     "name": "stdout",
     "output_type": "stream",
     "text": [
      "      0    1    2    3    4    5    6    7    8    9\n",
      "0   0.0  5.0  4.0  5.0  0.0  4.0  3.0  3.0  5.0  5.0\n",
      "1   1.0  5.0  0.0  2.0  4.0  1.0  5.0  3.0  4.0  5.0\n",
      "2   4.0  5.0  0.0  2.0  1.0  1.0  0.0  5.0  2.0  2.0\n",
      "3   3.0  2.0  1.0  0.0  5.0  1.0  2.0  0.0  0.0  0.0\n",
      "4   4.0  3.0  4.0  2.0  2.0  0.0  5.0  3.0  0.0  5.0\n",
      "5   4.0  5.0  3.0  1.0  0.0  0.0  5.0  5.0  4.0  0.0\n",
      "6   4.0  1.0  2.0  0.0  4.0  3.0  2.0  1.0  3.0  5.0\n",
      "7   5.0  2.0  2.0  2.0  2.0  0.0  5.0  2.0  0.0  4.0\n",
      "8   4.0  4.0  3.0  4.0  5.0  0.0  1.0  0.0  4.0  0.0\n",
      "9   3.0  2.0  4.0  2.0  4.0  2.0  2.0  1.0  3.0  3.0\n",
      "10  4.0  3.0  5.0  4.0  3.0  0.0  3.0  3.0  0.0  1.0\n",
      "11  2.0  2.0  1.0  4.0  4.0  4.0  0.0  2.0  2.0  3.0\n",
      "12  3.0  5.0  5.0  2.0  4.0  5.0  4.0  3.0  4.0  4.0\n",
      "13  3.0  5.0  0.0  1.0  4.0  1.0  4.0  4.0  3.0  1.0\n",
      "14  0.0  4.0  5.0  0.0  5.0  3.0  1.0  3.0  0.0  4.0\n",
      "15  0.0  3.0  1.0  1.0  2.0  4.0  5.0  3.0  3.0  4.0\n",
      "16  3.0  0.0  3.0  3.0  1.0  1.0  3.0  5.0  3.0  5.0\n",
      "17  1.0  4.0  0.0  1.0  4.0  0.0  3.0  2.0  4.0  1.0\n",
      "18  1.0  2.0  2.0  1.0  3.0  2.0  4.0  2.0  0.0  0.0\n",
      "19  5.0  1.0  4.0  5.0  0.0  3.0  2.0  5.0  1.0  4.0\n"
     ]
    }
   ],
   "source": [
    "# Matrix Factorization with missing elements\n",
    "M, N = 20, 10  # creating a 20-by-10 rating matrix\n",
    "np.random.seed(15)\n",
    "A_orig = np.random.randint(low=0.0, high=6.0, size=(M,N)).astype(np.float32)\n",
    "print (pd.DataFrame(A_orig).head(20))"
   ]
  },
  {
   "cell_type": "code",
   "execution_count": 6,
   "metadata": {},
   "outputs": [
    {
     "name": "stdout",
     "output_type": "stream",
     "text": [
      "     0    1    2    3    4    5    6    7    8    9\n",
      "0  NaN  5.0  4.0  5.0  0.0  4.0  3.0  3.0  5.0  5.0\n",
      "1  1.0  5.0  0.0  2.0  4.0  1.0  5.0  3.0  4.0  5.0\n",
      "2  4.0  5.0  0.0  NaN  1.0  NaN  0.0  5.0  2.0  2.0\n",
      "3  3.0  NaN  1.0  0.0  5.0  1.0  2.0  0.0  0.0  0.0\n",
      "4  4.0  3.0  NaN  2.0  2.0  0.0  5.0  3.0  NaN  5.0\n"
     ]
    }
   ],
   "source": [
    "# Let's add some NaN(s) to the rating matrix A\n",
    "A = A_orig.copy()\n",
    "A[0, 0] = np.NaN\n",
    "A[3, 1] = np.NaN\n",
    "A[4, 2] = np.NaN\n",
    "A[4, 8] = np.NaN\n",
    "A[2, 5] = np.NaN\n",
    "A[2, 3] = np.NAN\n",
    "\n",
    "A_df = pd.DataFrame(A)\n",
    "print (A_df.head())"
   ]
  },
  {
   "cell_type": "code",
   "execution_count": 2,
   "metadata": {},
   "outputs": [
    {
     "ename": "NameError",
     "evalue": "name 'np' is not defined",
     "output_type": "error",
     "traceback": [
      "\u001b[0;31m---------------------------------------------------------------------------\u001b[0m",
      "\u001b[0;31mNameError\u001b[0m                                 Traceback (most recent call last)",
      "Cell \u001b[0;32mIn[2], line 3\u001b[0m\n\u001b[1;32m      1\u001b[0m \u001b[38;5;66;03m# Initializing P and Q matrices with K = 5 features\u001b[39;00m\n\u001b[1;32m      2\u001b[0m K \u001b[38;5;241m=\u001b[39m \u001b[38;5;241m5\u001b[39m\n\u001b[0;32m----> 3\u001b[0m P \u001b[38;5;241m=\u001b[39m np\u001b[38;5;241m.\u001b[39mabs(np\u001b[38;5;241m.\u001b[39mrandom\u001b[38;5;241m.\u001b[39muniform(low\u001b[38;5;241m=\u001b[39m\u001b[38;5;241m0\u001b[39m, high\u001b[38;5;241m=\u001b[39m\u001b[38;5;241m5\u001b[39m, size\u001b[38;5;241m=\u001b[39m(M, K)))\n\u001b[1;32m      4\u001b[0m Q \u001b[38;5;241m=\u001b[39m np\u001b[38;5;241m.\u001b[39mabs(np\u001b[38;5;241m.\u001b[39mrandom\u001b[38;5;241m.\u001b[39muniform(low\u001b[38;5;241m=\u001b[39m\u001b[38;5;241m0\u001b[39m, high\u001b[38;5;241m=\u001b[39m\u001b[38;5;241m5\u001b[39m, size\u001b[38;5;241m=\u001b[39m(K, N)))\n\u001b[1;32m      5\u001b[0m P \u001b[38;5;241m=\u001b[39m np\u001b[38;5;241m.\u001b[39mdivide(P, K\u001b[38;5;241m*\u001b[39mP\u001b[38;5;241m.\u001b[39mmax())\n",
      "\u001b[0;31mNameError\u001b[0m: name 'np' is not defined"
     ]
    }
   ],
   "source": [
    "# Initializing P and Q matrices with K = 5 features\n",
    "K = 5\n",
    "P = np.abs(np.random.uniform(low=0, high=5, size=(M, K)))\n",
    "Q = np.abs(np.random.uniform(low=0, high=5, size=(K, N)))\n",
    "P = np.divide(P, K*P.max())\n",
    "Q = np.divide(Q, K*Q.max())"
   ]
  },
  {
   "cell_type": "code",
   "execution_count": 4,
   "metadata": {},
   "outputs": [
    {
     "ename": "NameError",
     "evalue": "name 'P' is not defined",
     "output_type": "error",
     "traceback": [
      "\u001b[0;31m---------------------------------------------------------------------------\u001b[0m",
      "\u001b[0;31mNameError\u001b[0m                                 Traceback (most recent call last)",
      "Cell \u001b[0;32mIn[4], line 1\u001b[0m\n\u001b[0;32m----> 1\u001b[0m P\n\u001b[1;32m      2\u001b[0m Q\n",
      "\u001b[0;31mNameError\u001b[0m: name 'P' is not defined"
     ]
    }
   ],
   "source": [
    "P\n",
    "Q"
   ]
  },
  {
   "cell_type": "code",
   "execution_count": 9,
   "metadata": {},
   "outputs": [],
   "source": [
    "def matrix_factorization(Rating_Matrix, P, Q, K, steps, alpha=0.001, beta=0.002):\n",
    "    Q = Q.T                                          # transposes Q\n",
    "    for step in range(steps):                        # number of iterations\n",
    "        for i in range(len(Rating_Matrix)):          # i varies in the range of the number of matrix rows\n",
    "            for j in range(len(Rating_Matrix[i])):   # j varies in the range of the number of matrix columns\n",
    "                if ~np.isnan(Rating_Matrix[i][j]):   # prforms the operation for any cell that is a number\n",
    "                    eij = Rating_Matrix[i][j] - np.dot(P[i,:],Q[:,j])  # calculating the error\n",
    "                    for k in range(K):\n",
    "                        P[i][k] = P[i][k] + alpha * (2 * eij * Q[k][j] - beta * P[i][k])  # updating the matrices using gradients of the loss function including regularization term\n",
    "                        Q[k][j] = Q[k][j] + alpha * (2 * eij * P[i][k] - beta * Q[k][j])\n",
    "        eRating_Matrix = np.dot(P,Q)                 # estimating the Rating_Matrix \n",
    "        e = 0\n",
    "        for i in range(len(Rating_Matrix)):\n",
    "            for j in range(len(Rating_Matrix[i])):\n",
    "                if ~np.isnan(Rating_Matrix[i][j]):\n",
    "                    e = e + pow(Rating_Matrix[i][j] - np.dot(P[i,:],Q[:,j]), 2) # brings to the power of 2 to calculate the cost function\n",
    "                    for k in range(K):\n",
    "                        e = e + (beta/2) * (pow(P[i][k],2) + pow(Q[k][j],2))    # calculating the cost function including regularization term\n",
    "        print(\"Total error at step\", step, \"is\", e)\n",
    "        if e < 0.0001:     # acceptable error threshold\n",
    "            break\n",
    "    return P, Q.T    # returns P and Q"
   ]
  },
  {
   "cell_type": "code",
   "execution_count": 13,
   "metadata": {},
   "outputs": [
    {
     "data": {
      "text/plain": [
       "array([[ 0.78627153,  0.72351264,  0.22514551,  1.58005806, -1.55000672,\n",
       "         0.71747127,  0.86877658,  2.03081305,  1.17054179,  1.45621826],\n",
       "       [ 1.75213195,  2.24222548,  0.6482283 ,  1.76867251,  1.64731249,\n",
       "         0.03009043,  0.41722571,  0.89036675,  1.21038811, -0.63980365],\n",
       "       [ 0.53248048,  1.21750954,  0.29766033, -0.92042997,  0.99493942,\n",
       "        -0.49558366,  2.8380022 ,  0.9120025 ,  0.71238418,  0.70240034],\n",
       "       [ 1.92788418, -0.33185242,  2.3721702 ,  0.95665096,  0.87043838,\n",
       "         0.49528957,  0.73958502,  0.62391629, -0.53768326,  1.56508613],\n",
       "       [-0.29492447,  1.24050234,  0.61063227,  0.30186518,  1.98372569,\n",
       "         2.15994602,  0.40775411,  0.39502213,  1.37329261,  1.96542446]])"
      ]
     },
     "execution_count": 13,
     "metadata": {},
     "output_type": "execute_result"
    }
   ],
   "source": [
    "eQ.T"
   ]
  },
  {
   "cell_type": "code",
   "execution_count": 14,
   "metadata": {},
   "outputs": [
    {
     "data": {
      "text/plain": [
       "array([[ 0.78627153,  1.75213195,  0.53248048,  1.92788418, -0.29492447],\n",
       "       [ 0.72351264,  2.24222548,  1.21750954, -0.33185242,  1.24050234],\n",
       "       [ 0.22514551,  0.6482283 ,  0.29766033,  2.3721702 ,  0.61063227],\n",
       "       [ 1.58005806,  1.76867251, -0.92042997,  0.95665096,  0.30186518],\n",
       "       [-1.55000672,  1.64731249,  0.99493942,  0.87043838,  1.98372569],\n",
       "       [ 0.71747127,  0.03009043, -0.49558366,  0.49528957,  2.15994602],\n",
       "       [ 0.86877658,  0.41722571,  2.8380022 ,  0.73958502,  0.40775411],\n",
       "       [ 2.03081305,  0.89036675,  0.9120025 ,  0.62391629,  0.39502213],\n",
       "       [ 1.17054179,  1.21038811,  0.71238418, -0.53768326,  1.37329261],\n",
       "       [ 1.45621826, -0.63980365,  0.70240034,  1.56508613,  1.96542446]])"
      ]
     },
     "execution_count": 14,
     "metadata": {},
     "output_type": "execute_result"
    }
   ],
   "source": [
    "Q.T"
   ]
  },
  {
   "cell_type": "code",
   "execution_count": 3,
   "metadata": {},
   "outputs": [
    {
     "ename": "NameError",
     "evalue": "name 'matrix_factorization' is not defined",
     "output_type": "error",
     "traceback": [
      "\u001b[0;31m---------------------------------------------------------------------------\u001b[0m",
      "\u001b[0;31mNameError\u001b[0m                                 Traceback (most recent call last)",
      "Cell \u001b[0;32mIn[3], line 1\u001b[0m\n\u001b[0;32m----> 1\u001b[0m eP, eQ \u001b[38;5;241m=\u001b[39m matrix_factorization(A, P, Q\u001b[38;5;241m.\u001b[39mT, K, steps \u001b[38;5;241m=\u001b[39m \u001b[38;5;241m1000\u001b[39m)\n\u001b[1;32m      2\u001b[0m eA \u001b[38;5;241m=\u001b[39m np\u001b[38;5;241m.\u001b[39mmatmul(eP, eQ\u001b[38;5;241m.\u001b[39mT)   \u001b[38;5;66;03m# returns estimated Rating_Matrix\u001b[39;00m\n\u001b[1;32m      3\u001b[0m \u001b[38;5;28mprint\u001b[39m(A,\u001b[38;5;124m'\u001b[39m\u001b[38;5;130;01m\\n\u001b[39;00m\u001b[38;5;124m'\u001b[39m)\n",
      "\u001b[0;31mNameError\u001b[0m: name 'matrix_factorization' is not defined"
     ]
    }
   ],
   "source": [
    "eP, eQ = matrix_factorization(A, P, Q.T, K, steps = 1000)\n",
    "eA = np.matmul(eP, eQ.T)   # returns estimated Rating_Matrix\n",
    "print(A,'\\n')\n",
    "print(eA)"
   ]
  },
  {
   "cell_type": "code",
   "execution_count": null,
   "metadata": {},
   "outputs": [],
   "source": []
  }
 ],
 "metadata": {
  "kernelspec": {
   "display_name": "Python 3 (ipykernel)",
   "language": "python",
   "name": "python3"
  },
  "language_info": {
   "codemirror_mode": {
    "name": "ipython",
    "version": 3
   },
   "file_extension": ".py",
   "mimetype": "text/x-python",
   "name": "python",
   "nbconvert_exporter": "python",
   "pygments_lexer": "ipython3",
   "version": "3.11.4"
  }
 },
 "nbformat": 4,
 "nbformat_minor": 1
}
