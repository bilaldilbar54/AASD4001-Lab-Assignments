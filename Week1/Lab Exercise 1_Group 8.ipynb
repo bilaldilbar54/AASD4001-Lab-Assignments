{
 "cells": [
  {
   "cell_type": "markdown",
   "metadata": {},
   "source": [
    "<p style=\"font-family: Arial; font-size:3em;color:black;\"> Lab 1 </p>"
   ]
  },
  {
   "cell_type": "markdown",
   "metadata": {},
   "source": [
    "Students name in this Group: Dheeraj Puttapaka, Simran Nisarg Modi, Mansi Waman Rajadhyaksha, Muhammad Bilal Dilbar Hussain, Sai Karthick Kalidoss, Falgun Khimasiya, Krishna Ashokbhai Zala, King Yim Chan"
   ]
  },
  {
   "cell_type": "code",
   "execution_count": 3,
   "metadata": {},
   "outputs": [],
   "source": [
    "# importing numpy\n",
    "import numpy as np\n"
   ]
  },
  {
   "cell_type": "code",
   "execution_count": 4,
   "metadata": {},
   "outputs": [
    {
     "name": "stdout",
     "output_type": "stream",
     "text": [
      "The numpy array arr is:  [1 2 3 5 0]\n",
      "False\n"
     ]
    }
   ],
   "source": [
    "# Create a numpy array with the elements \"1, 2, 3, 5, 0\", print the array and test if all of its elements are non-zero.\n",
    "import numpy as np\n",
    "\n",
    "arr = np.array ([1, 2, 3, 5, 0])\n",
    "print(\"The numpy array arr is: \", arr)\n",
    "print(np.all(arr))\n"
   ]
  },
  {
   "cell_type": "code",
   "execution_count": 5,
   "metadata": {},
   "outputs": [
    {
     "name": "stdout",
     "output_type": "stream",
     "text": [
      "The numpy array arr is:  [ 3 -1  3  7  2]\n",
      "True\n"
     ]
    }
   ],
   "source": [
    "# Create a numpy array with the elements \"3, -1, 3, 7, 2\", print the array and test if any of its elements is non-zero.\n",
    "import numpy as np\n",
    "\n",
    "arr = np.array ([3, -1, 3, 7, 2])\n",
    "print(\"The numpy array arr is: \", arr)\n",
    "print(np.any(arr))"
   ]
  },
  {
   "cell_type": "code",
   "execution_count": 6,
   "metadata": {},
   "outputs": [
    {
     "name": "stdout",
     "output_type": "stream",
     "text": [
      "The numpy array arr is:  [0. 0. 0. 0.]\n",
      "False\n"
     ]
    }
   ],
   "source": [
    "# Create a numpy array with the elements \"0, 0, 0, 0\", print the array and test if any of its elements is non-zero.\n",
    "import numpy as np\n",
    "\n",
    "arr = np.zeros(4)\n",
    "print(\"The numpy array arr is: \", arr)\n",
    "print(np.any(arr))"
   ]
  },
  {
   "cell_type": "code",
   "execution_count": 7,
   "metadata": {},
   "outputs": [
    {
     "name": "stdout",
     "output_type": "stream",
     "text": [
      "The numpy array arr is:  [56 -2  7]\n",
      "Memory size of numpy array arr is: 12 bits.\n"
     ]
    }
   ],
   "source": [
    "# Create a numpy array with the elements \"56, -2, 7\", print the array and the amount of memory required to store it.\n",
    "import numpy as np\n",
    "\n",
    "arr = np.array([56, -2, 7])\n",
    "print(\"The numpy array arr is: \", arr)\n",
    "\n",
    "print(\"Memory size of numpy array arr is:\", arr.itemsize*arr.size, \"bits.\")"
   ]
  },
  {
   "cell_type": "code",
   "execution_count": 8,
   "metadata": {},
   "outputs": [
    {
     "name": "stdout",
     "output_type": "stream",
     "text": [
      "The numpy array arr1 is: [0. 0. 0. 0. 0. 0. 0. 0. 0. 0.]\n",
      "The numpy array arr2 is: [1. 1. 1. 1. 1. 1.]\n",
      "The numpy array arr3 is: [3. 3. 3. 3. 3. 3. 3. 3. 3. 3. 3. 3.]\n"
     ]
    }
   ],
   "source": [
    "# Create a numpy array with 10 zeros and print the array.\n",
    "import numpy as np\n",
    "\n",
    "arr1 = np.zeros(10)\n",
    "print(\"The numpy array arr1 is:\", arr1)\n",
    "\n",
    "# Create a numpy array with 6 ones and print the array.\n",
    "arr2 = np.ones(6)\n",
    "print(\"The numpy array arr2 is:\", arr2)\n",
    "\n",
    "# Create a numpy array with 12 '3's and print the array. [3 3 3 3 3 3 3 3 3 3 3 3]\n",
    "arr3 = 3*np.ones(12)\n",
    "print(\"The numpy array arr3 is:\", arr3)\n"
   ]
  },
  {
   "cell_type": "code",
   "execution_count": 9,
   "metadata": {},
   "outputs": [
    {
     "name": "stdout",
     "output_type": "stream",
     "text": [
      "The numpy array arr from 8 to 20 is: [ 8  9 10 11 12 13 14 15 16 17 18 19 20]\n",
      "The numpy array arr2 from 8 to 20 {even only} is: [ 8 10 12 14 16 18 20]\n"
     ]
    }
   ],
   "source": [
    "# Create a numpy array of the integers from 8 to 20 and print the array. (make sure 20 itself is included) hint:  use \"arange\" method\n",
    "import numpy as np\n",
    "\n",
    "arr1 = np.arange(8, 21)\n",
    "print(\"The numpy array arr from 8 to 20 is:\", arr1)\n",
    "\n",
    "# Create a numpy array of the even integers from 8 to 20 and print the array. (make sure 20 itself is included)   hint:  use \"arange\" method\n",
    "arr2 = np.arange(8, 21, 2)\n",
    "print(\"The numpy array arr2 from 8 to 20 {even only} is:\", arr2)\n"
   ]
  },
  {
   "cell_type": "code",
   "execution_count": 10,
   "metadata": {},
   "outputs": [
    {
     "name": "stdout",
     "output_type": "stream",
     "text": [
      "Mean of the arr1 is:  1.9371518744814302\n",
      "Max of the arr1 is:  3.162237913334369\n",
      "Min of the arr1 is:  0.43503851030916696\n",
      "Std of the arr1 is:  0.5605309258937984\n",
      "Mean of the arr2 is:  2.042190700951508\n",
      "Max of the arr2 is:  4.563959109777922\n",
      "Min of the arr2 is:  0.5469616492214451\n",
      "Std of the arr2 is:  0.4879335973890275\n",
      "Mean of the arr3 is:  2.000099248854267\n",
      "Max of the arr3 is:  4.523771810603677\n",
      "Min of the arr3 is:  -0.4423023037952003\n",
      "Std of the arr3 is:  0.5000194941432288\n"
     ]
    }
   ],
   "source": [
    "# Create a numpy array consisting of 100 random elements from normal distribution with mean of 2 and std of 0.5. Print the mean, max, min and std of the array.\n",
    "import numpy as np\n",
    "\n",
    "arr1 = np.random.normal(2, 0.5, 100)\n",
    "print(\"Mean of the arr1 is: \", np.mean(arr1))\n",
    "print(\"Max of the arr1 is: \", np.max(arr1))\n",
    "print(\"Min of the arr1 is: \", np.min(arr1))\n",
    "print(\"Std of the arr1 is: \", np.std(arr1))\n",
    "\n",
    "# Create a numpy array consisting of 1000 random elements from normal distribution with mean of 2 and std of 0.5. Print the mean, max, min and std of the array.\n",
    "arr2 = np.random.normal(2, 0.5, 1000)\n",
    "print(\"Mean of the arr2 is: \", np.mean(arr2))\n",
    "print(\"Max of the arr2 is: \", np.max(arr2))\n",
    "print(\"Min of the arr2 is: \", np.min(arr2))\n",
    "print(\"Std of the arr2 is: \", np.std(arr2))\n",
    "\n",
    "# Create a numpy array consisting of 1000000 random elements from normal distribution with mean of 2 and std of 0.5. Print the mean, max, min and std of the array.\n",
    "arr3 = np.random.normal(2, 0.5, 1000000)\n",
    "print(\"Mean of the arr3 is: \", np.mean(arr3))\n",
    "print(\"Max of the arr3 is: \", np.max(arr3))\n",
    "print(\"Min of the arr3 is: \", np.min(arr3))\n",
    "print(\"Std of the arr3 is: \", np.std(arr3))\n"
   ]
  },
  {
   "cell_type": "code",
   "execution_count": 11,
   "metadata": {},
   "outputs": [],
   "source": [
    "# (Bonus question) Looking at the three above examples with 1000, 5000, and 10000 random elements, do you have any observations about mean and std values?"
   ]
  },
  {
   "cell_type": "markdown",
   "metadata": {},
   "source": [
    "Observation :\n",
    "\n",
    "For Mean:\n",
    "In all three cases, the calculated mean value is closer to the specified value of mean, i.e., 2. The larger the number of random elements, the closer or more accurate the value of the calculated mean with respect to the specified mean.\n",
    "\n",
    "For Std:\n",
    "Similar to the mean, as we increase the size of random elements, the standard deviation ought to become more consistent and closer to the target standard."
   ]
  }
 ],
 "metadata": {
  "kernelspec": {
   "display_name": "Python 3 (ipykernel)",
   "language": "python",
   "name": "python3"
  },
  "language_info": {
   "codemirror_mode": {
    "name": "ipython",
    "version": 3
   },
   "file_extension": ".py",
   "mimetype": "text/x-python",
   "name": "python",
   "nbconvert_exporter": "python",
   "pygments_lexer": "ipython3",
   "version": "3.11.5"
  }
 },
 "nbformat": 4,
 "nbformat_minor": 1
}
